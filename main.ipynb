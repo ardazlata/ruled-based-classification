{
 "cells": [
  {
   "cell_type": "code",
   "execution_count": 2,
   "id": "initial_id",
   "metadata": {
    "collapsed": true,
    "ExecuteTime": {
     "end_time": "2023-08-22T08:00:06.755538300Z",
     "start_time": "2023-08-22T08:00:06.634633800Z"
    }
   },
   "outputs": [
    {
     "ename": "ModuleNotFoundError",
     "evalue": "No module named 'pandas'",
     "output_type": "error",
     "traceback": [
      "\u001B[1;31m---------------------------------------------------------------------------\u001B[0m",
      "\u001B[1;31mModuleNotFoundError\u001B[0m                       Traceback (most recent call last)",
      "Cell \u001B[1;32mIn[2], line 1\u001B[0m\n\u001B[1;32m----> 1\u001B[0m \u001B[38;5;28;01mimport\u001B[39;00m \u001B[38;5;21;01mpandas\u001B[39;00m \u001B[38;5;28;01mas\u001B[39;00m \u001B[38;5;21;01mpd\u001B[39;00m\n\u001B[0;32m      2\u001B[0m pd\u001B[38;5;241m.\u001B[39mset_option(\u001B[38;5;124m\"\u001B[39m\u001B[38;5;124mdisplay.max_rows\u001B[39m\u001B[38;5;124m\"\u001B[39m, \u001B[38;5;28;01mNone\u001B[39;00m)\n\u001B[0;32m      3\u001B[0m df \u001B[38;5;241m=\u001B[39m pd\u001B[38;5;241m.\u001B[39mread_csv(\u001B[38;5;124m'\u001B[39m\u001B[38;5;124mdataset.csv\u001B[39m\u001B[38;5;124m'\u001B[39m)\n",
      "\u001B[1;31mModuleNotFoundError\u001B[0m: No module named 'pandas'"
     ]
    }
   ],
   "source": [
    "import pandas as pd\n",
    "pd.set_option(\"display.max_rows\", None)\n",
    "df = pd.read_csv('dataset.csv')\n",
    "df.head()"
   ]
  },
  {
   "cell_type": "code",
   "execution_count": null,
   "outputs": [],
   "source": [
    "df = df.drop(['Unnamed: 0'], axis=1)\n",
    "df[\"PRICE\"].nunique()\n",
    "df[\"SOURCE\"].value_counts()\n",
    "df[\"PRICE\"].value_counts()"
   ],
   "metadata": {
    "collapsed": false,
    "ExecuteTime": {
     "start_time": "2023-08-22T08:00:06.659776500Z"
    }
   },
   "id": "33be5cb1dce10cc2"
  },
  {
   "cell_type": "code",
   "execution_count": null,
   "outputs": [],
   "source": [
    "df[\"COUNTRY\"].value_counts()\n",
    "df.groupby(\"COUNTRY\")[\"PRICE\"].count()"
   ],
   "metadata": {
    "collapsed": false,
    "ExecuteTime": {
     "start_time": "2023-08-22T08:00:06.661861Z"
    }
   },
   "id": "2ed85866b6f676e1"
  },
  {
   "cell_type": "code",
   "execution_count": null,
   "outputs": [],
   "source": [
    "df.pivot_table(values=\"PRICE\",index=\"COUNTRY\",aggfunc=\"count\")"
   ],
   "metadata": {
    "collapsed": false,
    "ExecuteTime": {
     "start_time": "2023-08-22T08:00:06.665119100Z"
    }
   },
   "id": "68e766cbd9dedbdb"
  },
  {
   "cell_type": "code",
   "execution_count": null,
   "outputs": [],
   "source": [
    "df.groupby(\"COUNTRY\")[\"PRICE\"].sum()\n",
    "df.groupby(\"COUNTRY\").agg({\"PRICE\": \"sum\"})"
   ],
   "metadata": {
    "collapsed": false,
    "ExecuteTime": {
     "start_time": "2023-08-22T08:00:06.668443300Z"
    }
   },
   "id": "253d9a818f71cb41"
  },
  {
   "cell_type": "code",
   "execution_count": null,
   "outputs": [],
   "source": [
    "df[\"SOURCE\"].value_counts()\n",
    "df.groupby(by=['COUNTRY']).agg({\"PRICE\": \"mean\"})"
   ],
   "metadata": {
    "collapsed": false,
    "ExecuteTime": {
     "start_time": "2023-08-22T08:00:06.669761700Z"
    }
   },
   "id": "2f4198d701fcfdaf"
  },
  {
   "cell_type": "code",
   "execution_count": null,
   "outputs": [],
   "source": [
    "df.groupby(by=['SOURCE']).agg({\"PRICE\": \"mean\"})\n",
    "df.groupby(by=[\"COUNTRY\", 'SOURCE']).agg({\"PRICE\": \"mean\"})"
   ],
   "metadata": {
    "collapsed": false,
    "ExecuteTime": {
     "start_time": "2023-08-22T08:00:06.673040300Z"
    }
   },
   "id": "bccd245b3398a188"
  },
  {
   "cell_type": "code",
   "execution_count": null,
   "outputs": [],
   "source": [
    "df.groupby([\"COUNTRY\", 'SOURCE', \"SEX\", \"AGE\"]).agg({\"PRICE\": \"mean\"}).head()\n",
    "agg_df = df.groupby(by=[\"COUNTRY\", 'SOURCE', \"SEX\", \"AGE\"]).agg({\"PRICE\": \"mean\"}).sort_values(\"PRICE\", ascending=False)\n",
    "agg_df.head()"
   ],
   "metadata": {
    "collapsed": false,
    "ExecuteTime": {
     "start_time": "2023-08-22T08:00:06.673040300Z"
    }
   },
   "id": "894b78c5587e3d22"
  },
  {
   "cell_type": "code",
   "execution_count": null,
   "outputs": [],
   "source": [
    "agg_df.reset_index(inplace=True)"
   ],
   "metadata": {
    "collapsed": false,
    "ExecuteTime": {
     "start_time": "2023-08-22T08:00:06.673040300Z"
    }
   },
   "id": "20e083b12fefb8b3"
  },
  {
   "cell_type": "code",
   "execution_count": null,
   "outputs": [],
   "source": [
    "bins = [0, 18, 23, 30, 40, agg_df[\"AGE\"].max()]\n",
    "mylabels = ['0_18', '19_23', '24_30', '31_40', '41_' + str(agg_df[\"AGE\"].max())]\n",
    "agg_df[\"age_cat\"] = pd.cut(agg_df[\"AGE\"], bins, labels=mylabels)\n",
    "agg_df.head()"
   ],
   "metadata": {
    "collapsed": false,
    "ExecuteTime": {
     "start_time": "2023-08-22T08:00:06.685546500Z"
    }
   },
   "id": "68e917162edab29b"
  },
  {
   "cell_type": "code",
   "execution_count": null,
   "outputs": [],
   "source": [
    "agg_df.columns\n",
    "for row in agg_df.values:\n",
    "    print(row)\n",
    "[row[0].upper() + \"_\" + row[1].upper() + \"_\" + row[2].upper() + \"_\" + row[5].upper() for row in agg_df.values]"
   ],
   "metadata": {
    "collapsed": false,
    "ExecuteTime": {
     "start_time": "2023-08-22T08:00:06.687565300Z"
    }
   },
   "id": "6b1e0bbc27588d8d"
  },
  {
   "cell_type": "code",
   "execution_count": null,
   "outputs": [],
   "source": [
    "agg_df[\"customers_level_based\"] = [row[0].upper() + \"_\" + row[1].upper() + \"_\" + row[2].upper() + \"_\" + row[5].upper() for row in agg_df.values]\n",
    "agg_df.head()"
   ],
   "metadata": {
    "collapsed": false,
    "ExecuteTime": {
     "start_time": "2023-08-22T08:00:06.691068500Z"
    }
   },
   "id": "bac372c0da0ed3cc"
  },
  {
   "cell_type": "code",
   "execution_count": null,
   "outputs": [],
   "source": [
    "agg_df = agg_df[[\"customers_level_based\", \"PRICE\"]]\n",
    "agg_df.head()"
   ],
   "metadata": {
    "collapsed": false,
    "ExecuteTime": {
     "start_time": "2023-08-22T08:00:06.691068500Z"
    }
   },
   "id": "702126a1af1ddd26"
  },
  {
   "cell_type": "code",
   "execution_count": null,
   "outputs": [],
   "source": [
    "for i in agg_df[\"customers_level_based\"].values:\n",
    "    print(i.split(\"_\"))"
   ],
   "metadata": {
    "collapsed": false,
    "ExecuteTime": {
     "start_time": "2023-08-22T08:00:06.691068500Z"
    }
   },
   "id": "2b23a73c3a4a37d3"
  },
  {
   "cell_type": "code",
   "execution_count": null,
   "outputs": [],
   "source": [
    "agg_df[\"customers_level_based\"].value_counts()\n",
    "agg_df = agg_df.groupby(\"customers_level_based\").agg({\"PRICE\": \"mean\"})"
   ],
   "metadata": {
    "collapsed": false,
    "ExecuteTime": {
     "start_time": "2023-08-22T08:00:06.691068500Z"
    }
   },
   "id": "cd36363f59fef41"
  },
  {
   "cell_type": "code",
   "execution_count": null,
   "outputs": [],
   "source": [
    "agg_df = agg_df.reset_index()\n",
    "agg_df.head()"
   ],
   "metadata": {
    "collapsed": false,
    "ExecuteTime": {
     "start_time": "2023-08-22T08:00:06.691068500Z"
    }
   },
   "id": "f88b27ce09b956ac"
  },
  {
   "cell_type": "code",
   "execution_count": null,
   "outputs": [],
   "source": [
    "agg_df[\"customers_level_based\"].value_counts()\n",
    "agg_df.head()"
   ],
   "metadata": {
    "collapsed": false,
    "ExecuteTime": {
     "start_time": "2023-08-22T08:00:06.691068500Z"
    }
   },
   "id": "20a10e600ecb6bba"
  },
  {
   "cell_type": "code",
   "execution_count": null,
   "outputs": [],
   "source": [
    "agg_df[\"SEGMENT\"] = pd.qcut(agg_df[\"PRICE\"], 4, labels=[\"D\", \"C\", \"B\", \"A\"])\n",
    "agg_df.head(30)\n",
    "agg_df.groupby(\"SEGMENT\").agg({\"PRICE\": \"mean\"})"
   ],
   "metadata": {
    "collapsed": false,
    "ExecuteTime": {
     "start_time": "2023-08-22T08:00:06.691068500Z"
    }
   },
   "id": "5c55f2828fe9388d"
  },
  {
   "cell_type": "code",
   "execution_count": null,
   "outputs": [],
   "source": [
    "new_user = \"TUR_ANDROID_FEMALE_31_40\"\n",
    "agg_df[agg_df[\"customers_level_based\"] == new_user]"
   ],
   "metadata": {
    "collapsed": false,
    "ExecuteTime": {
     "start_time": "2023-08-22T08:00:06.701586500Z"
    }
   },
   "id": "fcbe8ba3d3c5eddc"
  },
  {
   "cell_type": "code",
   "execution_count": null,
   "outputs": [],
   "source": [
    "new_user = \"FRA_IOS_FEMALE_31_40\"\n",
    "agg_df[agg_df[\"customers_level_based\"] == new_user]"
   ],
   "metadata": {
    "collapsed": false,
    "ExecuteTime": {
     "start_time": "2023-08-22T08:00:06.701586500Z"
    }
   },
   "id": "49502bf8ac02324d"
  }
 ],
 "metadata": {
  "kernelspec": {
   "display_name": "Python 3",
   "language": "python",
   "name": "python3"
  },
  "language_info": {
   "codemirror_mode": {
    "name": "ipython",
    "version": 2
   },
   "file_extension": ".py",
   "mimetype": "text/x-python",
   "name": "python",
   "nbconvert_exporter": "python",
   "pygments_lexer": "ipython2",
   "version": "2.7.6"
  }
 },
 "nbformat": 4,
 "nbformat_minor": 5
}
